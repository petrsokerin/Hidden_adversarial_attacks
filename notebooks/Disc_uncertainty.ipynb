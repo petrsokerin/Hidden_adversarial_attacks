{
 "cells": [
  {
   "cell_type": "code",
   "execution_count": 1,
   "metadata": {},
   "outputs": [],
   "source": [
    "# changing core directory\n",
    "import os, sys\n",
    "dir2 = os.path.abspath('')\n",
    "dir1 = os.path.dirname(dir2)\n",
    "if not dir1 in sys.path:\n",
    "    sys.path.append(dir1)\n",
    "os.chdir('..')"
   ]
  },
  {
   "cell_type": "code",
   "execution_count": 2,
   "metadata": {},
   "outputs": [
    {
     "name": "stderr",
     "output_type": "stream",
     "text": [
      "CUDA extension for structured kernels (Cauchy and Vandermonde multiplication) not found. Install by going to extensions/kernels/ and running `python setup.py install`, for improved speed and memory efficiency. Note that the kernel changed for state-spaces 4.0 and must be recompiled.\n",
      "Falling back on slow Cauchy and Vandermonde kernel. Install at least one of pykeops or the CUDA extension for better speed and memory efficiency.\n"
     ]
    }
   ],
   "source": [
    "import copy\n",
    "\n",
    "import matplotlib.pyplot as plt\n",
    "import numpy as np\n",
    "import torch\n",
    "from torch.utils.data import DataLoader\n",
    "from sklearn.metrics import accuracy_score, roc_auc_score, average_precision_score\n",
    "\n",
    "\n",
    "\n",
    "from src.data import MyDataset, load_data, transform_data\n",
    "from src.config import  get_model, get_criterion, get_attack\n",
    "from src.utils import req_grad\n",
    "from src.estimation.uncertainty import (\n",
    "    reject_by_metric, \n",
    "    get_ensemble_predictive_entropy, \n",
    "    get_ensemble_std, \n",
    "    get_minprob, \n",
    "    reject_randomly,\n",
    "    reject_by_norm,\n",
    "    calculate_metrics_class\n",
    ")\n",
    "\n",
    "%load_ext autoreload\n",
    "%autoreload 2"
   ]
  },
  {
   "cell_type": "markdown",
   "metadata": {},
   "source": [
    "# config"
   ]
  },
  {
   "cell_type": "code",
   "execution_count": 3,
   "metadata": {},
   "outputs": [],
   "source": [
    "torch.manual_seed(0)\n",
    "np.random.seed(0)"
   ]
  },
  {
   "cell_type": "code",
   "execution_count": 4,
   "metadata": {},
   "outputs": [],
   "source": [
    "from hydra import compose, initialize\n",
    "from omegaconf import OmegaConf\n",
    "\n",
    "initialize(config_path='../config/my_configs', version_base=None)\n",
    "\n",
    "cfg = compose(config_name='train_classifier_config.yaml')"
   ]
  },
  {
   "cell_type": "code",
   "execution_count": 5,
   "metadata": {},
   "outputs": [],
   "source": [
    "device = torch.device(cfg[\"cuda\"] if torch.cuda.is_available() else \"cpu\")"
   ]
  },
  {
   "cell_type": "markdown",
   "metadata": {},
   "source": [
    "# main"
   ]
  },
  {
   "cell_type": "markdown",
   "metadata": {},
   "source": [
    "## load data"
   ]
  },
  {
   "cell_type": "code",
   "execution_count": 6,
   "metadata": {},
   "outputs": [
    {
     "ename": "TypeError",
     "evalue": "unsupported operand type(s) for +: 'DictConfig' and 'str'",
     "output_type": "error",
     "traceback": [
      "\u001b[0;31m---------------------------------------------------------------------------\u001b[0m",
      "\u001b[0;31mTypeError\u001b[0m                                 Traceback (most recent call last)",
      "\u001b[1;32m/cephfs/projects/danikin/aa/HAA/notebooks/Disc_uncertainty.ipynb Cell 9\u001b[0m line \u001b[0;36m1\n\u001b[0;32m----> <a href='vscode-notebook-cell://ssh-remote%2B194.85.203.189/cephfs/projects/danikin/aa/HAA/notebooks/Disc_uncertainty.ipynb#X11sdnNjb2RlLXJlbW90ZQ%3D%3D?line=0'>1</a>\u001b[0m X_train, y_train, X_test, y_test \u001b[39m=\u001b[39m load_data(cfg[\u001b[39m\"\u001b[39;49m\u001b[39mdataset\u001b[39;49m\u001b[39m\"\u001b[39;49m])\n\u001b[1;32m      <a href='vscode-notebook-cell://ssh-remote%2B194.85.203.189/cephfs/projects/danikin/aa/HAA/notebooks/Disc_uncertainty.ipynb#X11sdnNjb2RlLXJlbW90ZQ%3D%3D?line=1'>2</a>\u001b[0m \u001b[39mif\u001b[39;00m \u001b[39mlen\u001b[39m(\u001b[39mset\u001b[39m(y_test)) \u001b[39m>\u001b[39m \u001b[39m2\u001b[39m:\n\u001b[1;32m      <a href='vscode-notebook-cell://ssh-remote%2B194.85.203.189/cephfs/projects/danikin/aa/HAA/notebooks/Disc_uncertainty.ipynb#X11sdnNjb2RlLXJlbW90ZQ%3D%3D?line=2'>3</a>\u001b[0m     \u001b[39mraise\u001b[39;00m \u001b[39mValueError\u001b[39;00m(\u001b[39m'\u001b[39m\u001b[39mDataset should be binary classfied\u001b[39m\u001b[39m'\u001b[39m)\n",
      "File \u001b[0;32m~/aa/HAA/src/data/data.py:15\u001b[0m, in \u001b[0;36mload_data\u001b[0;34m(dataset)\u001b[0m\n\u001b[1;32m     14\u001b[0m \u001b[39mdef\u001b[39;00m \u001b[39mload_data\u001b[39m(dataset: \u001b[39mstr\u001b[39m \u001b[39m=\u001b[39m \u001b[39m\"\u001b[39m\u001b[39mFordA\u001b[39m\u001b[39m\"\u001b[39m) \u001b[39m-\u001b[39m\u001b[39m>\u001b[39m Tuple[np\u001b[39m.\u001b[39mndarray]:\n\u001b[0;32m---> 15\u001b[0m     \u001b[39mreturn\u001b[39;00m load_UCR(dataset)\n",
      "File \u001b[0;32m~/aa/HAA/src/data/data.py:19\u001b[0m, in \u001b[0;36mload_UCR\u001b[0;34m(dataset)\u001b[0m\n\u001b[1;32m     18\u001b[0m \u001b[39mdef\u001b[39;00m \u001b[39mload_UCR\u001b[39m(dataset: \u001b[39mstr\u001b[39m) \u001b[39m-\u001b[39m\u001b[39m>\u001b[39m Tuple[np\u001b[39m.\u001b[39mndarray]:\n\u001b[0;32m---> 19\u001b[0m     train_file \u001b[39m=\u001b[39m os\u001b[39m.\u001b[39mpath\u001b[39m.\u001b[39mjoin(\u001b[39m\"\u001b[39m\u001b[39mdata/TS2Vec/UCR\u001b[39m\u001b[39m\"\u001b[39m, dataset, dataset \u001b[39m+\u001b[39;49m \u001b[39m\"\u001b[39;49m\u001b[39m_TRAIN.tsv\u001b[39;49m\u001b[39m\"\u001b[39;49m)\n\u001b[1;32m     20\u001b[0m     test_file \u001b[39m=\u001b[39m os\u001b[39m.\u001b[39mpath\u001b[39m.\u001b[39mjoin(\u001b[39m\"\u001b[39m\u001b[39mdata/TS2Vec/UCR\u001b[39m\u001b[39m\"\u001b[39m, dataset, dataset \u001b[39m+\u001b[39m \u001b[39m\"\u001b[39m\u001b[39m_TEST.tsv\u001b[39m\u001b[39m\"\u001b[39m)\n\u001b[1;32m     21\u001b[0m     train_df \u001b[39m=\u001b[39m pd\u001b[39m.\u001b[39mread_csv(train_file, sep\u001b[39m=\u001b[39m\u001b[39m\"\u001b[39m\u001b[39m\\t\u001b[39;00m\u001b[39m\"\u001b[39m, header\u001b[39m=\u001b[39m\u001b[39mNone\u001b[39;00m)\n",
      "\u001b[0;31mTypeError\u001b[0m: unsupported operand type(s) for +: 'DictConfig' and 'str'"
     ]
    }
   ],
   "source": [
    "X_train, y_train, X_test, y_test = load_data(cfg[\"dataset\"])\n",
    "if len(set(y_test)) > 2:\n",
    "    raise ValueError('Dataset should be binary classfied')\n",
    "X_train, X_test, y_train, y_test = transform_data(\n",
    "    X_train,\n",
    "    X_test,\n",
    "    y_train,\n",
    "    y_test,\n",
    "    slice_data=cfg[\"slice\"],\n",
    ")"
   ]
  },
  {
   "cell_type": "code",
   "execution_count": 7,
   "metadata": {},
   "outputs": [],
   "source": [
    "test_loader = DataLoader(\n",
    "    MyDataset(X_test, y_test), batch_size=cfg[\"batch_size\"], shuffle=False\n",
    ")"
   ]
  },
  {
   "cell_type": "markdown",
   "metadata": {},
   "source": [
    "## load model"
   ]
  },
  {
   "cell_type": "code",
   "execution_count": 8,
   "metadata": {},
   "outputs": [],
   "source": [
    "criterion_params = cfg[\"training_params\"]['criterion_params']\n",
    "if criterion_params == \"None\" or not criterion_params:\n",
    "    criterion_params = {}\n",
    "\n",
    "loss = get_criterion(\n",
    "    cfg[\"training_params\"]['criterion_name'], \n",
    "    criterion_params, \n",
    ")"
   ]
  },
  {
   "cell_type": "code",
   "execution_count": 9,
   "metadata": {},
   "outputs": [],
   "source": [
    "models = []\n",
    "preds = []\n",
    "metrics = []\n",
    "norms = []\n",
    "\n",
    "\n",
    "for model_id in range(cfg[\"model_id_start\"], cfg[\"model_id_finish\"]):\n",
    "\n",
    "    base_model = get_model(\n",
    "        cfg[\"training_params\"]['model_name'], \n",
    "        cfg[\"training_params\"]['model_params'], \n",
    "        device=device,\n",
    "        path = os.path.join(cfg['save_path'], f'model_{model_id}_{cfg[\"dataset\"]}.pt'),\n",
    "        train_mode = False,\n",
    "        )\n",
    "    models.append(base_model)\n",
    "\n",
    "    X_for_pred = X_test.unsqueeze(-1).to(device)\n",
    "    model_preds = base_model(X_for_pred).cpu().detach().numpy()\n",
    "    preds.append(model_preds.flatten())\n",
    "    \n",
    "    model_metrics = calculate_metrics_class(y_test, np.around(model_preds))\n",
    "    metrics.append(model_metrics)\n",
    "\n",
    "    base_model.train()\n",
    "    req_grad(base_model, state=True)\n",
    "    X_for_pred.requires_grad = True\n",
    "\n",
    "    logits = base_model(X_for_pred)\n",
    "    loss_val = loss(logits, y_test.to(device).float())\n",
    "    X_for_pred.retain_grad()\n",
    "\n",
    "    grad = torch.autograd.grad(loss_val, X_for_pred)[0]\n",
    "    grad_norm = torch.linalg.norm(grad, ord=2, dim=(1,2)).cpu().detach().numpy().tolist()\n",
    "    norms.append(grad_norm)\n",
    "\n",
    "    \n",
    "np_preds = np.array(preds)\n",
    "ave_preds = np.average(np_preds, axis=0)\n",
    "\n",
    "norms = np.sum(np.array(norms), axis=0)"
   ]
  },
  {
   "cell_type": "markdown",
   "metadata": {},
   "source": [
    "## disc model"
   ]
  },
  {
   "cell_type": "code",
   "execution_count": 10,
   "metadata": {},
   "outputs": [],
   "source": [
    "alpha = None\n",
    "eps = 0.03\n",
    "estimator = None"
   ]
  },
  {
   "cell_type": "code",
   "execution_count": 11,
   "metadata": {},
   "outputs": [
    {
     "name": "stderr",
     "output_type": "stream",
     "text": [
      "100%|██████████| 1/1 [00:00<00:00, 15.46it/s]"
     ]
    },
    {
     "name": "stdout",
     "output_type": "stream",
     "text": [
      "torch.Size([128, 235, 1])\n",
      "torch.Size([128, 235, 1])\n",
      "torch.Size([114, 235, 1])\n"
     ]
    },
    {
     "name": "stderr",
     "output_type": "stream",
     "text": [
      "\n"
     ]
    }
   ],
   "source": [
    "attack_params = dict(cfg[\"attack\"][\"attack_params\"])\n",
    "attack_params[\"model\"] = models[0]\n",
    "attack_params[\"criterion\"] = loss\n",
    "attack_params[\"estimator\"] = estimator\n",
    "attack_params[\"alpha\"] = alpha\n",
    "attack_params[\"eps\"] = eps\n",
    "\n",
    "attack = get_attack(cfg[\"attack\"][\"name\"], attack_params)\n",
    "X_adv = attack.apply_attack(test_loader)"
   ]
  },
  {
   "cell_type": "code",
   "execution_count": 13,
   "metadata": {},
   "outputs": [
    {
     "data": {
      "text/plain": [
       "device(type='cpu')"
      ]
     },
     "execution_count": 13,
     "metadata": {},
     "output_type": "execute_result"
    }
   ],
   "source": [
    "X_adv.device"
   ]
  },
  {
   "cell_type": "code",
   "execution_count": 14,
   "metadata": {},
   "outputs": [],
   "source": [
    "disc_model_cfg = cfg[\"list_check_model_params\"][0]\n",
    "\n",
    "disc_path = os.path.join(cfg['disc_path'], f\"{disc_model_cfg['model_name']}/{disc_model_cfg['model_id']}.pt\")\n",
    "\n",
    "disc_model = get_model(\n",
    "    cfg[\"training_params\"]['model_name'], \n",
    "    cfg[\"training_params\"]['model_params'], \n",
    "    device=device,\n",
    "    path = disc_path,\n",
    "    train_mode = False,\n",
    ")\n",
    "\n",
    "disc_preds = disc_model(X_adv.to(device)).cpu().detach().numpy()"
   ]
  },
  {
   "cell_type": "code",
   "execution_count": 15,
   "metadata": {},
   "outputs": [
    {
     "data": {
      "text/plain": [
       "0.99999166"
      ]
     },
     "execution_count": 15,
     "metadata": {},
     "output_type": "execute_result"
    }
   ],
   "source": [
    "disc_preds.mean()"
   ]
  },
  {
   "cell_type": "markdown",
   "metadata": {},
   "source": [
    "## uncertainty dict"
   ]
  },
  {
   "cell_type": "code",
   "execution_count": null,
   "metadata": {},
   "outputs": [],
   "source": [
    "rejection_rates = np.linspace(0, 1.0, 20)\n",
    "iter_to_break = 49\n",
    "dict_metrics = {\n",
    "    'Acc':accuracy_score,\n",
    "    # 'ROC AUC':roc_auc_score,\n",
    "    # 'PR AUC':average_precision_score\n",
    "}\n",
    "\n",
    "dict_curves = dict()\n",
    "labels = y_test.flatten().float()\n",
    "labels_disc = np.ones_like(labels)\n",
    "\n",
    "\n",
    "for metric_name, metric in  dict_metrics.items():\n",
    "    \n",
    "    dict_curve_metric = dict()\n",
    "\n",
    "    \n",
    "    dict_curve_metric['Pred_entropy_model'] = reject_by_metric(get_ensemble_predictive_entropy,\n",
    "                                     np_preds,\n",
    "                                     labels, \n",
    "                                     rejection_rates,\n",
    "                                     metric)\n",
    "\n",
    "\n",
    "    dict_curve_metric['StD'] = reject_by_metric(get_ensemble_std,\n",
    "                                np_preds,\n",
    "                                labels, \n",
    "                                rejection_rates,\n",
    "                                metric)\n",
    "    \n",
    "    dict_curve_metric['MaxProb_model'] = reject_by_metric(get_minprob,\n",
    "                                np_preds[0].reshape(1, -1),\n",
    "                                labels, \n",
    "                                rejection_rates,\n",
    "                                metric)\n",
    "    \n",
    "    dict_curve_metric['MaxProb_disc'] = reject_by_metric(get_minprob,\n",
    "                                disc_preds,\n",
    "                                labels_disc, \n",
    "                                rejection_rates,\n",
    "                                metric)\n",
    "    \n",
    "    dict_curve_metric['Random'] = reject_randomly(ave_preds,\n",
    "                                  labels, \n",
    "                                  rejection_rates,\n",
    "                                  1000,\n",
    "                                  metric)\n",
    "    \n",
    "    dict_curve_metric['Grad_Norm'] = reject_by_norm(norms.flatten(),\n",
    "                                np_preds,\n",
    "                                labels, \n",
    "                                rejection_rates,\n",
    "                                metric)  \n",
    "    \n",
    "    \n",
    "    dict_curves[metric_name] = dict_curve_metric"
   ]
  },
  {
   "cell_type": "code",
   "execution_count": null,
   "metadata": {},
   "outputs": [
    {
     "data": {
      "image/png": "[encoded data removed]",
      "text/plain": [
       "<Figure size 1700x900 with 1 Axes>"
      ]
     },
     "metadata": {},
     "output_type": "display_data"
    }
   ],
   "source": [
    "plt.figure(figsize=(17, 9))\n",
    "\n",
    "for i, (metric_name, curves_dict) in enumerate(dict_curves.items()):\n",
    "    \n",
    "    plt.subplot(1, 3, i+1)\n",
    "\n",
    "    for label, metric in curves_dict.items():\n",
    "        if 'Iter' in label:\n",
    "            plt.plot(rejection_rates[0:len(metric)], metric, label=label, linewidth = 3, linestyle='--')\n",
    "        else:\n",
    "            plt.plot(rejection_rates[0:len(metric)], metric, label=label)\n",
    "    plt.title(metric_name)\n",
    "    plt.xlabel('Rejection rate')\n",
    "    plt.ylabel(metric_name)\n",
    "    plt.legend()\n",
    "    plt.grid()\n",
    "\n",
    "plt.show()"
   ]
  },
  {
   "cell_type": "code",
   "execution_count": null,
   "metadata": {},
   "outputs": [],
   "source": []
  }
 ],
 "metadata": {
  "kernelspec": {
   "display_name": "base",
   "language": "python",
   "name": "python3"
  },
  "language_info": {
   "codemirror_mode": {
    "name": "ipython",
    "version": 3
   },
   "file_extension": ".py",
   "mimetype": "text/x-python",
   "name": "python",
   "nbconvert_exporter": "python",
   "pygments_lexer": "ipython3",
   "version": "3.8.8"
  }
 },
 "nbformat": 4,
 "nbformat_minor": 2
}
